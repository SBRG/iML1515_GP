{
 "cells": [
  {
   "cell_type": "markdown",
   "metadata": {
    "janus": {
     "all_versions_showing": false,
     "cell_hidden": false,
     "current_version": 0,
     "id": "3856a18ddfdc1",
     "named_versions": [],
     "output_hidden": false,
     "show_versions": false,
     "source_hidden": false,
     "versions": []
    }
   },
   "source": [
    "# *i*ML1515_GP - Loading and Exploring the GEM-PRO\n",
    "\n",
    "This notebook guides you through loading the GEM-PRO model for ***i*ML1515** and exploring the contents of it.\n",
    "\n",
    "Requirements:\n",
    "- ``ssbio`` - installation instructions [here](http://ssbio.readthedocs.io/en/latest/#installation), documentation [here](http://ssbio.readthedocs.io/en/latest/index.html)"
   ]
  },
  {
   "cell_type": "markdown",
   "metadata": {
    "janus": {
     "all_versions_showing": false,
     "cell_hidden": false,
     "current_version": 0,
     "id": "fea638b61738d",
     "named_versions": [],
     "output_hidden": false,
     "show_versions": false,
     "source_hidden": false,
     "versions": []
    }
   },
   "source": [
    "## Loading the GEM-PRO"
   ]
  },
  {
   "cell_type": "code",
   "execution_count": 1,
   "metadata": {
    "ExecuteTime": {
     "end_time": "2019-10-17T21:45:17.011724Z",
     "start_time": "2019-10-17T21:45:17.003266Z"
    },
    "janus": {
     "all_versions_showing": false,
     "cell_hidden": false,
     "current_version": 0,
     "id": "c278900910d4e",
     "named_versions": [],
     "output_hidden": false,
     "show_versions": false,
     "source_hidden": false,
     "versions": []
    }
   },
   "outputs": [],
   "source": [
    "# Loading the JSON file\n",
    "# Change the location of the .json file if it is located somewhere else\n",
    "from ssbio.io import load_json\n",
    "iML1515_GP = load_json('iML1515_GP/model/iML1515_GP.json', decompression=False)"
   ]
  },
  {
   "cell_type": "code",
   "execution_count": 2,
   "metadata": {
    "ExecuteTime": {
     "end_time": "2019-10-04T09:36:39.226738Z",
     "start_time": "2019-10-04T09:36:37.895890Z"
    },
    "janus": {
     "all_versions_showing": false,
     "cell_hidden": false,
     "current_version": 0,
     "id": "2d4b46da6d759",
     "named_versions": [],
     "output_hidden": false,
     "show_versions": false,
     "source_hidden": false,
     "versions": []
    }
   },
   "outputs": [],
   "source": [
    "# Alternative - loading the pickle file\n",
    "# Uncomment and use this loading method if the JSON file fails to load\n",
    "# from ssbio.io import load_pickle\n",
    "# iML1515_GP = load_pickle('iML1515_GP/model/iML1515_GP.pckl')"
   ]
  },
  {
   "cell_type": "markdown",
   "metadata": {
    "janus": {
     "all_versions_showing": false,
     "cell_hidden": false,
     "current_version": 0,
     "id": "3bf2fcc661c57",
     "named_versions": [],
     "output_hidden": false,
     "show_versions": false,
     "source_hidden": false,
     "versions": []
    }
   },
   "source": [
    "## Basic information & DataFrames"
   ]
  },
  {
   "cell_type": "markdown",
   "metadata": {
    "janus": {
     "all_versions_showing": false,
     "cell_hidden": false,
     "current_version": 0,
     "id": "814d652fe9a8c",
     "named_versions": [],
     "output_hidden": false,
     "show_versions": false,
     "source_hidden": false,
     "versions": []
    }
   },
   "source": [
    "### Genes with and without structures"
   ]
  },
  {
   "cell_type": "code",
   "execution_count": 3,
   "metadata": {
    "ExecuteTime": {
     "end_time": "2019-10-04T09:36:41.379381Z",
     "start_time": "2019-10-04T09:36:41.357541Z"
    },
    "janus": {
     "all_versions_showing": false,
     "cell_hidden": false,
     "current_version": 0,
     "id": "08347b65177fe",
     "named_versions": [],
     "output_hidden": false,
     "show_versions": false,
     "source_hidden": false,
     "versions": []
    }
   },
   "outputs": [
    {
     "data": {
      "text/plain": [
       "[<GenePro b0870 at 0x7fe43eec8910>,\n",
       " <GenePro b2551 at 0x7fe44dc42890>,\n",
       " <GenePro b3500 at 0x7fe43ee30fd0>,\n",
       " <GenePro b0945 at 0x7fe43ee3eb50>,\n",
       " <GenePro b3916 at 0x7fe43ee07c10>,\n",
       " <GenePro b1260 at 0x7fe43ee51b90>,\n",
       " <GenePro b1261 at 0x7fe43eda65d0>,\n",
       " <GenePro b3426 at 0x7fe43edb8e50>,\n",
       " <GenePro b3770 at 0x7fe43ed81510>,\n",
       " <GenePro b4054 at 0x7fe43ed92390>]"
      ]
     },
     "execution_count": 3,
     "metadata": {},
     "output_type": "execute_result"
    }
   ],
   "source": [
    "# List all genes that have at least one experimental PDB structure\n",
    "iML1515_GP.genes_with_experimental_structures[:10]"
   ]
  },
  {
   "cell_type": "code",
   "execution_count": 4,
   "metadata": {
    "ExecuteTime": {
     "end_time": "2019-10-04T09:36:42.167524Z",
     "start_time": "2019-10-04T09:36:42.144554Z"
    },
    "janus": {
     "all_versions_showing": false,
     "cell_hidden": false,
     "current_version": 0,
     "id": "07a6831dbfb3d",
     "named_versions": [],
     "output_hidden": false,
     "show_versions": false,
     "source_hidden": false,
     "versions": []
    }
   },
   "outputs": [
    {
     "data": {
      "text/plain": [
       "[<GenePro b0870 at 0x7fe43eec8910>,\n",
       " <GenePro b2551 at 0x7fe44dc42890>,\n",
       " <GenePro b3368 at 0x7fe43eec8990>,\n",
       " <GenePro b2436 at 0x7fe43ef15f90>,\n",
       " <GenePro b3500 at 0x7fe43ee30fd0>,\n",
       " <GenePro b0945 at 0x7fe43ee3eb50>,\n",
       " <GenePro b4467 at 0x7fe43ee58190>,\n",
       " <GenePro b2979 at 0x7fe43eded450>,\n",
       " <GenePro b4468 at 0x7fe43edf4f90>,\n",
       " <GenePro b3916 at 0x7fe43ee07c10>]"
      ]
     },
     "execution_count": 4,
     "metadata": {},
     "output_type": "execute_result"
    }
   ],
   "source": [
    "# List all genes that have at least one homology model\n",
    "iML1515_GP.genes_with_homology_models[:10]"
   ]
  },
  {
   "cell_type": "markdown",
   "metadata": {
    "janus": {
     "all_versions_showing": false,
     "cell_hidden": false,
     "current_version": 0,
     "id": "ece765c6eb34e",
     "named_versions": [],
     "output_hidden": false,
     "show_versions": false,
     "source_hidden": false,
     "versions": []
    }
   },
   "source": [
    "### Summary DataFrames"
   ]
  },
  {
   "cell_type": "code",
   "execution_count": 5,
   "metadata": {
    "ExecuteTime": {
     "end_time": "2019-10-04T09:36:43.453184Z",
     "start_time": "2019-10-04T09:36:43.383069Z"
    },
    "janus": {
     "all_versions_showing": false,
     "cell_hidden": false,
     "current_version": 0,
     "id": "cc78ec4e72fe1",
     "named_versions": [],
     "output_hidden": false,
     "show_versions": false,
     "source_hidden": false,
     "versions": []
    }
   },
   "outputs": [
    {
     "data": {
      "text/html": [
       "<div>\n",
       "<style scoped>\n",
       "    .dataframe tbody tr th:only-of-type {\n",
       "        vertical-align: middle;\n",
       "    }\n",
       "\n",
       "    .dataframe tbody tr th {\n",
       "        vertical-align: top;\n",
       "    }\n",
       "\n",
       "    .dataframe thead th {\n",
       "        text-align: right;\n",
       "    }\n",
       "</style>\n",
       "<table border=\"1\" class=\"dataframe\">\n",
       "  <thead>\n",
       "    <tr style=\"text-align: right;\">\n",
       "      <th></th>\n",
       "      <th>uniprot</th>\n",
       "      <th>kegg</th>\n",
       "      <th>pdbs</th>\n",
       "      <th>sequence_file</th>\n",
       "      <th>metadata_file</th>\n",
       "    </tr>\n",
       "    <tr>\n",
       "      <th>gene</th>\n",
       "      <th></th>\n",
       "      <th></th>\n",
       "      <th></th>\n",
       "      <th></th>\n",
       "      <th></th>\n",
       "    </tr>\n",
       "  </thead>\n",
       "  <tbody>\n",
       "    <tr>\n",
       "      <td>b0002</td>\n",
       "      <td>P00561</td>\n",
       "      <td>ecj:JW0001;eco:b0002</td>\n",
       "      <td>6MX1</td>\n",
       "      <td>P00561.fasta</td>\n",
       "      <td>P00561.xml</td>\n",
       "    </tr>\n",
       "    <tr>\n",
       "      <td>b0003</td>\n",
       "      <td>P00547</td>\n",
       "      <td>ecj:JW0002;eco:b0003</td>\n",
       "      <td>NaN</td>\n",
       "      <td>P00547.fasta</td>\n",
       "      <td>P00547.xml</td>\n",
       "    </tr>\n",
       "    <tr>\n",
       "      <td>b0004</td>\n",
       "      <td>P00934</td>\n",
       "      <td>ecj:JW0003;eco:b0004</td>\n",
       "      <td>1VB3</td>\n",
       "      <td>P00934.fasta</td>\n",
       "      <td>P00934.xml</td>\n",
       "    </tr>\n",
       "    <tr>\n",
       "      <td>b0007</td>\n",
       "      <td>P30143</td>\n",
       "      <td>ecj:JW0006;eco:b0007</td>\n",
       "      <td>NaN</td>\n",
       "      <td>P30143.fasta</td>\n",
       "      <td>P30143.xml</td>\n",
       "    </tr>\n",
       "    <tr>\n",
       "      <td>b0008</td>\n",
       "      <td>P0A870</td>\n",
       "      <td>ecj:JW0007;eco:b0008</td>\n",
       "      <td>1I2N;1I2O;1I2P;1I2Q;1I2R;1ONR;1UCW;3KOF;4RZ5;4...</td>\n",
       "      <td>P0A870.fasta</td>\n",
       "      <td>P0A870.xml</td>\n",
       "    </tr>\n",
       "  </tbody>\n",
       "</table>\n",
       "</div>"
      ],
      "text/plain": [
       "      uniprot                  kegg  \\\n",
       "gene                                  \n",
       "b0002  P00561  ecj:JW0001;eco:b0002   \n",
       "b0003  P00547  ecj:JW0002;eco:b0003   \n",
       "b0004  P00934  ecj:JW0003;eco:b0004   \n",
       "b0007  P30143  ecj:JW0006;eco:b0007   \n",
       "b0008  P0A870  ecj:JW0007;eco:b0008   \n",
       "\n",
       "                                                    pdbs sequence_file  \\\n",
       "gene                                                                     \n",
       "b0002                                               6MX1  P00561.fasta   \n",
       "b0003                                                NaN  P00547.fasta   \n",
       "b0004                                               1VB3  P00934.fasta   \n",
       "b0007                                                NaN  P30143.fasta   \n",
       "b0008  1I2N;1I2O;1I2P;1I2Q;1I2R;1ONR;1UCW;3KOF;4RZ5;4...  P0A870.fasta   \n",
       "\n",
       "      metadata_file  \n",
       "gene                 \n",
       "b0002    P00561.xml  \n",
       "b0003    P00547.xml  \n",
       "b0004    P00934.xml  \n",
       "b0007    P30143.xml  \n",
       "b0008    P0A870.xml  "
      ]
     },
     "execution_count": 5,
     "metadata": {},
     "output_type": "execute_result"
    }
   ],
   "source": [
    "# Summarize the sequences mapped to each protein\n",
    "iML1515_GP.df_representative_sequences.head()"
   ]
  },
  {
   "cell_type": "code",
   "execution_count": 6,
   "metadata": {
    "ExecuteTime": {
     "end_time": "2019-10-04T09:36:44.195710Z",
     "start_time": "2019-10-04T09:36:44.157168Z"
    },
    "janus": {
     "all_versions_showing": false,
     "cell_hidden": false,
     "current_version": 0,
     "id": "2b3d9c17440bc",
     "named_versions": [],
     "output_hidden": false,
     "show_versions": false,
     "source_hidden": false,
     "versions": []
    }
   },
   "outputs": [
    {
     "data": {
      "text/html": [
       "<div>\n",
       "<style scoped>\n",
       "    .dataframe tbody tr th:only-of-type {\n",
       "        vertical-align: middle;\n",
       "    }\n",
       "\n",
       "    .dataframe tbody tr th {\n",
       "        vertical-align: top;\n",
       "    }\n",
       "\n",
       "    .dataframe thead th {\n",
       "        text-align: right;\n",
       "    }\n",
       "</style>\n",
       "<table border=\"1\" class=\"dataframe\">\n",
       "  <thead>\n",
       "    <tr style=\"text-align: right;\">\n",
       "      <th></th>\n",
       "      <th>id</th>\n",
       "      <th>is_experimental</th>\n",
       "      <th>file_type</th>\n",
       "      <th>structure_file</th>\n",
       "    </tr>\n",
       "    <tr>\n",
       "      <th>gene</th>\n",
       "      <th></th>\n",
       "      <th></th>\n",
       "      <th></th>\n",
       "      <th></th>\n",
       "    </tr>\n",
       "  </thead>\n",
       "  <tbody>\n",
       "    <tr>\n",
       "      <td>b0002</td>\n",
       "      <td>REP-AK1H_ECOLI</td>\n",
       "      <td>False</td>\n",
       "      <td>pdb</td>\n",
       "      <td>AK1H_ECOLI_model1_clean-X_clean.pdb</td>\n",
       "    </tr>\n",
       "    <tr>\n",
       "      <td>b0003</td>\n",
       "      <td>REP-KHSE_ECOLI</td>\n",
       "      <td>False</td>\n",
       "      <td>pdb</td>\n",
       "      <td>KHSE_ECOLI_model1_clean-X_clean.pdb</td>\n",
       "    </tr>\n",
       "    <tr>\n",
       "      <td>b0004</td>\n",
       "      <td>REP-1vb3</td>\n",
       "      <td>True</td>\n",
       "      <td>pdb</td>\n",
       "      <td>1vb3-A_clean.pdb</td>\n",
       "    </tr>\n",
       "    <tr>\n",
       "      <td>b0007</td>\n",
       "      <td>REP-YAAJ_ECOLI</td>\n",
       "      <td>False</td>\n",
       "      <td>pdb</td>\n",
       "      <td>YAAJ_ECOLI_model1_clean-X_clean.pdb</td>\n",
       "    </tr>\n",
       "    <tr>\n",
       "      <td>b0008</td>\n",
       "      <td>REP-4s2b</td>\n",
       "      <td>True</td>\n",
       "      <td>pdb</td>\n",
       "      <td>4s2b-A_clean.pdb</td>\n",
       "    </tr>\n",
       "  </tbody>\n",
       "</table>\n",
       "</div>"
      ],
      "text/plain": [
       "                   id  is_experimental file_type  \\\n",
       "gene                                               \n",
       "b0002  REP-AK1H_ECOLI            False       pdb   \n",
       "b0003  REP-KHSE_ECOLI            False       pdb   \n",
       "b0004        REP-1vb3             True       pdb   \n",
       "b0007  REP-YAAJ_ECOLI            False       pdb   \n",
       "b0008        REP-4s2b             True       pdb   \n",
       "\n",
       "                            structure_file  \n",
       "gene                                        \n",
       "b0002  AK1H_ECOLI_model1_clean-X_clean.pdb  \n",
       "b0003  KHSE_ECOLI_model1_clean-X_clean.pdb  \n",
       "b0004                     1vb3-A_clean.pdb  \n",
       "b0007  YAAJ_ECOLI_model1_clean-X_clean.pdb  \n",
       "b0008                     4s2b-A_clean.pdb  "
      ]
     },
     "execution_count": 6,
     "metadata": {},
     "output_type": "execute_result"
    }
   ],
   "source": [
    "# Summarize the structures mapped to each protein\n",
    "iML1515_GP.df_representative_structures.head()"
   ]
  },
  {
   "cell_type": "markdown",
   "metadata": {
    "janus": {
     "all_versions_showing": false,
     "cell_hidden": false,
     "current_version": 0,
     "id": "876cb6c0536a6",
     "named_versions": [],
     "output_hidden": false,
     "show_versions": false,
     "source_hidden": false,
     "versions": []
    }
   },
   "source": [
    "### Inspecting the content of one gene and its protein"
   ]
  },
  {
   "cell_type": "code",
   "execution_count": 7,
   "metadata": {
    "ExecuteTime": {
     "end_time": "2019-10-04T09:36:46.361313Z",
     "start_time": "2019-10-04T09:36:46.357865Z"
    },
    "janus": {
     "all_versions_showing": false,
     "cell_hidden": false,
     "current_version": 0,
     "id": "083b2d48d4a32",
     "named_versions": [],
     "output_hidden": false,
     "show_versions": false,
     "source_hidden": false,
     "versions": []
    }
   },
   "outputs": [
    {
     "data": {
      "text/plain": [
       "<Protein b3916 at 0x7fe43ee07c90>"
      ]
     },
     "execution_count": 7,
     "metadata": {},
     "output_type": "execute_result"
    }
   ],
   "source": [
    "# Looking at the content stored per gene\n",
    "my_protein = iML1515_GP.genes.b3916.protein\n",
    "my_protein"
   ]
  },
  {
   "cell_type": "markdown",
   "metadata": {
    "janus": {
     "all_versions_showing": false,
     "cell_hidden": false,
     "current_version": 0,
     "id": "344d95763492a",
     "named_versions": [],
     "output_hidden": false,
     "show_versions": false,
     "source_hidden": false,
     "versions": []
    }
   },
   "source": [
    "#### Protein sequences and structures"
   ]
  },
  {
   "cell_type": "code",
   "execution_count": 8,
   "metadata": {
    "ExecuteTime": {
     "end_time": "2019-10-04T09:36:48.177297Z",
     "start_time": "2019-10-04T09:36:48.156255Z"
    },
    "janus": {
     "all_versions_showing": false,
     "cell_hidden": false,
     "current_version": 0,
     "id": "1bb54e4f87d08",
     "named_versions": [],
     "output_hidden": false,
     "show_versions": false,
     "source_hidden": false,
     "versions": []
    }
   },
   "outputs": [
    {
     "data": {
      "text/plain": [
       "[KEGGProp(seq=Seq('MIKKIGVLTSGGDAPGMNAAIRGVVRSALTEGLEVMGIYDGYLGLYEDRMVQLD...KLY', SingleLetterAlphabet()), id='eco:b3916', name='eco:b3916', description='eco:b3916 K00850 6-phosphofructokinase 1 [EC:2.7.1.11] | (RefSeq) pfkA; 6-phosphofructokinase I (A)', dbxrefs=[]),\n",
       " UniProtProp(seq=Seq('MIKKIGVLTSGGDAPGMNAAIRGVVRSALTEGLEVMGIYDGYLGLYEDRMVQLD...KLY', SingleLetterAlphabet()), id='P0A796', name='sp|P0A796|PFKA_ECOLI', description='ATP-dependent 6-phosphofructokinase isozyme 1', dbxrefs=[])]"
      ]
     },
     "execution_count": 8,
     "metadata": {},
     "output_type": "execute_result"
    }
   ],
   "source": [
    "my_protein.sequences"
   ]
  },
  {
   "cell_type": "code",
   "execution_count": 9,
   "metadata": {
    "ExecuteTime": {
     "end_time": "2019-10-04T09:36:52.380165Z",
     "start_time": "2019-10-04T09:36:52.375700Z"
    },
    "janus": {
     "all_versions_showing": false,
     "cell_hidden": false,
     "current_version": 0,
     "id": "45a8b4d4a0f02",
     "named_versions": [],
     "output_hidden": false,
     "show_versions": false,
     "source_hidden": false,
     "versions": []
    }
   },
   "outputs": [
    {
     "data": {
      "text/plain": [
       "[<PDBProp 1pfk at 0x7fe43ede7990>,\n",
       " <PDBProp 2pfk at 0x7fe43eda38d0>,\n",
       " <StructProp K6PF1_ECOLI at 0x7fe43ee14fd0>,\n",
       " <StructProp E03690 at 0x7fe43eda3f50>,\n",
       " <StructProp REP-1pfk at 0x7fe43eda6090>]"
      ]
     },
     "execution_count": 9,
     "metadata": {},
     "output_type": "execute_result"
    }
   ],
   "source": [
    "my_protein.structures"
   ]
  },
  {
   "cell_type": "markdown",
   "metadata": {
    "janus": {
     "all_versions_showing": false,
     "cell_hidden": false,
     "current_version": 0,
     "id": "6da272677f4fc",
     "named_versions": [],
     "output_hidden": false,
     "show_versions": false,
     "source_hidden": false,
     "versions": []
    }
   },
   "source": [
    "#### Domain information"
   ]
  },
  {
   "cell_type": "code",
   "execution_count": 10,
   "metadata": {
    "ExecuteTime": {
     "end_time": "2019-10-04T09:36:55.080008Z",
     "start_time": "2019-10-04T09:36:55.074620Z"
    },
    "janus": {
     "all_versions_showing": false,
     "cell_hidden": false,
     "current_version": 0,
     "id": "197ca862ecf59",
     "named_versions": [],
     "output_hidden": false,
     "show_versions": false,
     "source_hidden": false,
     "versions": []
    }
   },
   "outputs": [
    {
     "data": {
      "text/plain": [
       "['PDP:1ZXXAa', 'PDP:1ZXXAb']"
      ]
     },
     "execution_count": 10,
     "metadata": {},
     "output_type": "execute_result"
    }
   ],
   "source": [
    "my_protein.representative_sequence.domains"
   ]
  },
  {
   "cell_type": "code",
   "execution_count": 11,
   "metadata": {
    "ExecuteTime": {
     "end_time": "2019-10-04T09:36:55.842730Z",
     "start_time": "2019-10-04T09:36:55.839431Z"
    },
    "janus": {
     "all_versions_showing": false,
     "cell_hidden": false,
     "current_version": 0,
     "id": "c54fb36322a61",
     "named_versions": [],
     "output_hidden": false,
     "show_versions": false,
     "source_hidden": false,
     "versions": []
    }
   },
   "outputs": [
    {
     "data": {
      "text/plain": [
       "['PDP:1ZXXAa', 'PDP:1ZXXAb']"
      ]
     },
     "execution_count": 11,
     "metadata": {},
     "output_type": "execute_result"
    }
   ],
   "source": [
    "my_protein.representative_structure.domains"
   ]
  },
  {
   "cell_type": "markdown",
   "metadata": {
    "janus": {
     "all_versions_showing": false,
     "cell_hidden": false,
     "current_version": 0,
     "id": "ba21e0cc252bc",
     "named_versions": [],
     "output_hidden": false,
     "show_versions": false,
     "source_hidden": false,
     "versions": []
    }
   },
   "source": [
    "## Viewing 3D structures"
   ]
  },
  {
   "cell_type": "code",
   "execution_count": 12,
   "metadata": {
    "ExecuteTime": {
     "end_time": "2019-10-04T09:36:57.294150Z",
     "start_time": "2019-10-04T09:36:57.289308Z"
    },
    "janus": {
     "all_versions_showing": false,
     "cell_hidden": false,
     "current_version": 0,
     "id": "ca831b6bdaeeb",
     "named_versions": [],
     "output_hidden": false,
     "show_versions": false,
     "source_hidden": false,
     "versions": []
    }
   },
   "outputs": [
    {
     "data": {
      "text/plain": [
       "[<PDBProp 1pfk at 0x7fe43ede7990>,\n",
       " <PDBProp 2pfk at 0x7fe43eda38d0>,\n",
       " <StructProp K6PF1_ECOLI at 0x7fe43ee14fd0>,\n",
       " <StructProp E03690 at 0x7fe43eda3f50>,\n",
       " <StructProp REP-1pfk at 0x7fe43eda6090>]"
      ]
     },
     "execution_count": 12,
     "metadata": {},
     "output_type": "execute_result"
    }
   ],
   "source": [
    "# Listing all mapped structures for this protein\n",
    "iML1515_GP.genes.b3916.protein.structures"
   ]
  },
  {
   "cell_type": "code",
   "execution_count": 13,
   "metadata": {
    "ExecuteTime": {
     "end_time": "2019-10-04T09:37:00.912534Z",
     "start_time": "2019-10-04T09:37:00.879065Z"
    },
    "janus": {
     "all_versions_showing": false,
     "cell_hidden": false,
     "current_version": 0,
     "id": "ffecb31e9ce1b",
     "named_versions": [],
     "output_hidden": false,
     "show_versions": false,
     "source_hidden": false,
     "versions": []
    }
   },
   "outputs": [
    {
     "data": {
      "application/vnd.jupyter.widget-view+json": {
       "model_id": "ca56397e952d4b4d874d8a7e75da0000",
       "version_major": 2,
       "version_minor": 0
      },
      "text/plain": [
       "A Jupyter Widget"
      ]
     },
     "metadata": {},
     "output_type": "display_data"
    },
    {
     "data": {
      "application/vnd.jupyter.widget-view+json": {
       "model_id": "593c2451c1e943b4836dbebdbc31c12f",
       "version_major": 2,
       "version_minor": 0
      },
      "text/plain": [
       "A Jupyter Widget"
      ]
     },
     "metadata": {},
     "output_type": "display_data"
    }
   ],
   "source": [
    "# Displaying the original PDB structure\n",
    "iML1515_GP.genes.b3916.protein.structures.get_by_id('1pfk').view_structure(recolor=False)"
   ]
  },
  {
   "cell_type": "code",
   "execution_count": 14,
   "metadata": {
    "ExecuteTime": {
     "end_time": "2019-10-04T09:37:18.066363Z",
     "start_time": "2019-10-04T09:37:17.491365Z"
    },
    "janus": {
     "all_versions_showing": false,
     "cell_hidden": false,
     "current_version": 0,
     "id": "155f5c4061dd7",
     "named_versions": [],
     "output_hidden": false,
     "show_versions": false,
     "source_hidden": false,
     "versions": []
    }
   },
   "outputs": [
    {
     "data": {
      "application/vnd.jupyter.widget-view+json": {
       "model_id": "d2d002b04a5945f69e22b3f37a751446",
       "version_major": 2,
       "version_minor": 0
      },
      "text/plain": [
       "A Jupyter Widget"
      ]
     },
     "metadata": {},
     "output_type": "display_data"
    }
   ],
   "source": [
    "# Displaying the single chain set as the protein's representative structure\n",
    "iML1515_GP.genes.b3916.protein.representative_structure.view_structure(recolor=False)"
   ]
  }
 ],
 "metadata": {
  "anaconda-cloud": {},
  "janus": {
   "filepaths": [
    [
     "c619e37b",
     1570181669007,
     1570629124804
    ]
   ],
   "janus_markers": [],
   "track_history": true
  },
  "kernelspec": {
   "display_name": "Python 3",
   "language": "python",
   "name": "python3"
  },
  "language_info": {
   "codemirror_mode": {
    "name": "ipython",
    "version": 3
   },
   "file_extension": ".py",
   "mimetype": "text/x-python",
   "name": "python",
   "nbconvert_exporter": "python",
   "pygments_lexer": "ipython3",
   "version": "3.7.4"
  },
  "toc": {
   "nav_menu": {},
   "number_sections": false,
   "sideBar": true,
   "skip_h1_title": true,
   "title_cell": "Table of Contents",
   "title_sidebar": "Contents",
   "toc_cell": false,
   "toc_position": {},
   "toc_section_display": true,
   "toc_window_display": false
  }
 },
 "nbformat": 4,
 "nbformat_minor": 1
}
