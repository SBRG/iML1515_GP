{
 "cells": [
  {
   "cell_type": "markdown",
   "metadata": {},
   "source": [
    "# *i*ML1515_GP - Loading and Exploring the GEM-PRO\n",
    "\n",
    "This notebook guides you through loading the GEM-PRO model for ***i*ML1515** and exploring the contents of it.\n",
    "\n",
    "Requirements:\n",
    "- ``ssbio`` - installation instructions [here](http://ssbio.readthedocs.io/en/latest/#installation), documentation [here](http://ssbio.readthedocs.io/en/latest/index.html)"
   ]
  },
  {
   "cell_type": "markdown",
   "metadata": {},
   "source": [
    "## Loading the GEM-PRO"
   ]
  },
  {
   "cell_type": "code",
   "execution_count": 1,
   "metadata": {
    "collapsed": false
   },
   "outputs": [],
   "source": [
    "# Loading the JSON file\n",
    "# Change the location of the .json file if it is located somewhere else\n",
    "from ssbio.core.io import load_json\n",
    "iML1515_GP = load_json('iML1515_GP.json.gz', decompression=True)"
   ]
  },
  {
   "cell_type": "code",
   "execution_count": 2,
   "metadata": {
    "collapsed": true
   },
   "outputs": [],
   "source": [
    "## Alternative - loading the pickle file\n",
    "## Uncomment and use this loading method if the JSON file fails to load\n",
    "# from ssbio.core.io import load_pickle\n",
    "# iML1515_GP = load_pickle('iML1515_GP/model/iML1515_GP.pckl')"
   ]
  },
  {
   "cell_type": "markdown",
   "metadata": {},
   "source": [
    "## Basic information & DataFrames"
   ]
  },
  {
   "cell_type": "markdown",
   "metadata": {},
   "source": [
    "### Genes with and without structures"
   ]
  },
  {
   "cell_type": "code",
   "execution_count": 3,
   "metadata": {
    "collapsed": false
   },
   "outputs": [
    {
     "data": {
      "text/plain": [
       "[<GenePro b0870 at 0x7f0334cc75f8>,\n",
       " <GenePro b2551 at 0x7f0358653dd8>,\n",
       " <GenePro b3500 at 0x7f03343a12e8>,\n",
       " <GenePro b0945 at 0x7f03343a1cf8>,\n",
       " <GenePro b3916 at 0x7f03343094e0>,\n",
       " <GenePro b1260 at 0x7f0334309eb8>,\n",
       " <GenePro b1261 at 0x7f0334330390>,\n",
       " <GenePro b3426 at 0x7f03342bea90>,\n",
       " <GenePro b3770 at 0x7f03342899b0>,\n",
       " <GenePro b4054 at 0x7f03342ba438>]"
      ]
     },
     "execution_count": 3,
     "metadata": {},
     "output_type": "execute_result"
    }
   ],
   "source": [
    "# List all genes that have at least one experimental PDB structure\n",
    "iML1515_GP.genes_with_experimental_structures[:10]"
   ]
  },
  {
   "cell_type": "code",
   "execution_count": 4,
   "metadata": {
    "collapsed": false
   },
   "outputs": [
    {
     "data": {
      "text/plain": [
       "[<GenePro b0870 at 0x7f0334cc75f8>,\n",
       " <GenePro b2551 at 0x7f0358653dd8>,\n",
       " <GenePro b3368 at 0x7f0334cc7588>,\n",
       " <GenePro b2436 at 0x7f0334387828>,\n",
       " <GenePro b3500 at 0x7f03343a12e8>,\n",
       " <GenePro b0945 at 0x7f03343a1cf8>,\n",
       " <GenePro b4467 at 0x7f0334347550>,\n",
       " <GenePro b2979 at 0x7f033435e080>,\n",
       " <GenePro b4468 at 0x7f033435ea90>,\n",
       " <GenePro b3916 at 0x7f03343094e0>]"
      ]
     },
     "execution_count": 4,
     "metadata": {},
     "output_type": "execute_result"
    }
   ],
   "source": [
    "# List all genes that have at least one homology model\n",
    "iML1515_GP.genes_with_homology_models[:10]"
   ]
  },
  {
   "cell_type": "markdown",
   "metadata": {},
   "source": [
    "### Summary DataFrames"
   ]
  },
  {
   "cell_type": "code",
   "execution_count": 5,
   "metadata": {
    "collapsed": false
   },
   "outputs": [
    {
     "data": {
      "text/html": [
       "<div>\n",
       "<table border=\"1\" class=\"dataframe\">\n",
       "  <thead>\n",
       "    <tr style=\"text-align: right;\">\n",
       "      <th></th>\n",
       "      <th>uniprot</th>\n",
       "      <th>kegg</th>\n",
       "      <th>num_pdbs</th>\n",
       "      <th>pdbs</th>\n",
       "      <th>seq_len</th>\n",
       "      <th>sequence_file</th>\n",
       "    </tr>\n",
       "    <tr>\n",
       "      <th>gene</th>\n",
       "      <th></th>\n",
       "      <th></th>\n",
       "      <th></th>\n",
       "      <th></th>\n",
       "      <th></th>\n",
       "      <th></th>\n",
       "    </tr>\n",
       "  </thead>\n",
       "  <tbody>\n",
       "    <tr>\n",
       "      <th>b0870</th>\n",
       "      <td>P75823</td>\n",
       "      <td>ecj:JW0854;eco:b0870</td>\n",
       "      <td>1</td>\n",
       "      <td>3WLX</td>\n",
       "      <td>333</td>\n",
       "      <td>P75823.fasta</td>\n",
       "    </tr>\n",
       "    <tr>\n",
       "      <th>b2551</th>\n",
       "      <td>P0A825</td>\n",
       "      <td>ecj:JW2535;eco:b2551</td>\n",
       "      <td>3</td>\n",
       "      <td>1EQB;1DFO;3G8M</td>\n",
       "      <td>417</td>\n",
       "      <td>P0A825.fasta</td>\n",
       "    </tr>\n",
       "    <tr>\n",
       "      <th>b3368</th>\n",
       "      <td>P0AEA8</td>\n",
       "      <td>ecj:JW3331;eco:b3368</td>\n",
       "      <td>0</td>\n",
       "      <td>NaN</td>\n",
       "      <td>457</td>\n",
       "      <td>P0AEA8.fasta</td>\n",
       "    </tr>\n",
       "    <tr>\n",
       "      <th>b2436</th>\n",
       "      <td>P36553</td>\n",
       "      <td>ecj:JW2429;eco:b2436</td>\n",
       "      <td>0</td>\n",
       "      <td>NaN</td>\n",
       "      <td>299</td>\n",
       "      <td>P36553.fasta</td>\n",
       "    </tr>\n",
       "    <tr>\n",
       "      <th>b3500</th>\n",
       "      <td>P06715</td>\n",
       "      <td>ecj:JW3467;eco:b3500</td>\n",
       "      <td>4</td>\n",
       "      <td>1GEU;1GER;1GET;1GES</td>\n",
       "      <td>450</td>\n",
       "      <td>P06715.fasta</td>\n",
       "    </tr>\n",
       "  </tbody>\n",
       "</table>\n",
       "</div>"
      ],
      "text/plain": [
       "      uniprot                  kegg  num_pdbs                 pdbs  seq_len  \\\n",
       "gene                                                                          \n",
       "b0870  P75823  ecj:JW0854;eco:b0870         1                 3WLX      333   \n",
       "b2551  P0A825  ecj:JW2535;eco:b2551         3       1EQB;1DFO;3G8M      417   \n",
       "b3368  P0AEA8  ecj:JW3331;eco:b3368         0                  NaN      457   \n",
       "b2436  P36553  ecj:JW2429;eco:b2436         0                  NaN      299   \n",
       "b3500  P06715  ecj:JW3467;eco:b3500         4  1GEU;1GER;1GET;1GES      450   \n",
       "\n",
       "      sequence_file  \n",
       "gene                 \n",
       "b0870  P75823.fasta  \n",
       "b2551  P0A825.fasta  \n",
       "b3368  P0AEA8.fasta  \n",
       "b2436  P36553.fasta  \n",
       "b3500  P06715.fasta  "
      ]
     },
     "execution_count": 5,
     "metadata": {},
     "output_type": "execute_result"
    }
   ],
   "source": [
    "# Summarize the sequences mapped to each protein\n",
    "iML1515_GP.df_representative_sequences.head()"
   ]
  },
  {
   "cell_type": "code",
   "execution_count": 6,
   "metadata": {
    "collapsed": false
   },
   "outputs": [
    {
     "data": {
      "text/html": [
       "<div>\n",
       "<table border=\"1\" class=\"dataframe\">\n",
       "  <thead>\n",
       "    <tr style=\"text-align: right;\">\n",
       "      <th></th>\n",
       "      <th>id</th>\n",
       "      <th>is_experimental</th>\n",
       "      <th>reference_seq_top_coverage</th>\n",
       "      <th>structure_file</th>\n",
       "    </tr>\n",
       "    <tr>\n",
       "      <th>gene</th>\n",
       "      <th></th>\n",
       "      <th></th>\n",
       "      <th></th>\n",
       "      <th></th>\n",
       "    </tr>\n",
       "  </thead>\n",
       "  <tbody>\n",
       "    <tr>\n",
       "      <th>b0870</th>\n",
       "      <td>3wlx-A</td>\n",
       "      <td>True</td>\n",
       "      <td>99.4</td>\n",
       "      <td>3wlx-A_clean.pdb</td>\n",
       "    </tr>\n",
       "    <tr>\n",
       "      <th>b2551</th>\n",
       "      <td>1dfo-A</td>\n",
       "      <td>True</td>\n",
       "      <td>99.8</td>\n",
       "      <td>1dfo-A_clean.pdb</td>\n",
       "    </tr>\n",
       "    <tr>\n",
       "      <th>b3368</th>\n",
       "      <td>CYSG_ECOLI-X</td>\n",
       "      <td>False</td>\n",
       "      <td>100.0</td>\n",
       "      <td>CYSG_ECOLI_model1_clean-X_clean.pdb</td>\n",
       "    </tr>\n",
       "    <tr>\n",
       "      <th>b2436</th>\n",
       "      <td>HEM6_ECOLI-X</td>\n",
       "      <td>False</td>\n",
       "      <td>100.0</td>\n",
       "      <td>HEM6_ECOLI_model1_clean-X_clean.pdb</td>\n",
       "    </tr>\n",
       "    <tr>\n",
       "      <th>b3500</th>\n",
       "      <td>1ges-A</td>\n",
       "      <td>True</td>\n",
       "      <td>98.0</td>\n",
       "      <td>1ges-A_clean.pdb</td>\n",
       "    </tr>\n",
       "  </tbody>\n",
       "</table>\n",
       "</div>"
      ],
      "text/plain": [
       "                 id is_experimental  reference_seq_top_coverage  \\\n",
       "gene                                                              \n",
       "b0870        3wlx-A            True                        99.4   \n",
       "b2551        1dfo-A            True                        99.8   \n",
       "b3368  CYSG_ECOLI-X           False                       100.0   \n",
       "b2436  HEM6_ECOLI-X           False                       100.0   \n",
       "b3500        1ges-A            True                        98.0   \n",
       "\n",
       "                            structure_file  \n",
       "gene                                        \n",
       "b0870                     3wlx-A_clean.pdb  \n",
       "b2551                     1dfo-A_clean.pdb  \n",
       "b3368  CYSG_ECOLI_model1_clean-X_clean.pdb  \n",
       "b2436  HEM6_ECOLI_model1_clean-X_clean.pdb  \n",
       "b3500                     1ges-A_clean.pdb  "
      ]
     },
     "execution_count": 6,
     "metadata": {},
     "output_type": "execute_result"
    }
   ],
   "source": [
    "# Summarize the structures mapped to each protein\n",
    "iML1515_GP.df_representative_structures.head()"
   ]
  },
  {
   "cell_type": "markdown",
   "metadata": {},
   "source": [
    "### Inspecting the content of one gene and its protein"
   ]
  },
  {
   "cell_type": "code",
   "execution_count": 7,
   "metadata": {
    "collapsed": false
   },
   "outputs": [
    {
     "data": {
      "text/plain": [
       "<Protein b3916 at 0x7f0334309550>"
      ]
     },
     "execution_count": 7,
     "metadata": {},
     "output_type": "execute_result"
    }
   ],
   "source": [
    "# Looking at the content stored per gene\n",
    "my_protein = iML1515_GP.genes.b3916.protein\n",
    "my_protein"
   ]
  },
  {
   "cell_type": "markdown",
   "metadata": {},
   "source": [
    "#### Protein sequences and structures"
   ]
  },
  {
   "cell_type": "code",
   "execution_count": 8,
   "metadata": {
    "collapsed": false
   },
   "outputs": [
    {
     "data": {
      "text/plain": [
       "[<KEGGProp eco:b3916 at 0x7f033431eb38>,\n",
       " <UniProtProp P0A796 at 0x7f033431ecc0>]"
      ]
     },
     "execution_count": 8,
     "metadata": {},
     "output_type": "execute_result"
    }
   ],
   "source": [
    "my_protein.sequences"
   ]
  },
  {
   "cell_type": "code",
   "execution_count": 9,
   "metadata": {
    "collapsed": false
   },
   "outputs": [
    {
     "data": {
      "text/plain": [
       "[<PDBProp 1pfk at 0x7f033434cb00>,\n",
       " <PDBProp 2pfk at 0x7f033431ecf8>,\n",
       " <StructProp K6PF1_ECOLI at 0x7f0334330278>,\n",
       " <StructProp E03690 at 0x7f0334330320>]"
      ]
     },
     "execution_count": 9,
     "metadata": {},
     "output_type": "execute_result"
    }
   ],
   "source": [
    "my_protein.structures"
   ]
  },
  {
   "cell_type": "markdown",
   "metadata": {},
   "source": [
    "#### Domain information"
   ]
  },
  {
   "cell_type": "code",
   "execution_count": 10,
   "metadata": {
    "collapsed": false
   },
   "outputs": [
    {
     "data": {
      "text/plain": [
       "['PDP:1ZXXAa', 'PDP:1ZXXAb']"
      ]
     },
     "execution_count": 10,
     "metadata": {},
     "output_type": "execute_result"
    }
   ],
   "source": [
    "my_protein.representative_sequence.domains"
   ]
  },
  {
   "cell_type": "code",
   "execution_count": 11,
   "metadata": {
    "collapsed": false
   },
   "outputs": [
    {
     "data": {
      "text/plain": [
       "['PDP:1ZXXAa', 'PDP:1ZXXAb']"
      ]
     },
     "execution_count": 11,
     "metadata": {},
     "output_type": "execute_result"
    }
   ],
   "source": [
    "my_protein.representative_structure.domains"
   ]
  },
  {
   "cell_type": "markdown",
   "metadata": {},
   "source": [
    "## Viewing 3D structures"
   ]
  },
  {
   "cell_type": "code",
   "execution_count": 12,
   "metadata": {
    "collapsed": false
   },
   "outputs": [
    {
     "data": {
      "text/plain": [
       "[<PDBProp 1pfk at 0x7f033434cb00>,\n",
       " <PDBProp 2pfk at 0x7f033431ecf8>,\n",
       " <StructProp K6PF1_ECOLI at 0x7f0334330278>,\n",
       " <StructProp E03690 at 0x7f0334330320>]"
      ]
     },
     "execution_count": 12,
     "metadata": {},
     "output_type": "execute_result"
    }
   ],
   "source": [
    "# Listing all mapped structures for this protein\n",
    "iML1515_GP.genes.b3916.protein.structures"
   ]
  },
  {
   "cell_type": "code",
   "execution_count": 13,
   "metadata": {
    "collapsed": false
   },
   "outputs": [],
   "source": [
    "# Displaying the original PDB structure\n",
    "iML1515_GP.genes.b3916.protein.structures.get_by_id('1pfk').view_structure(recolor=False)"
   ]
  },
  {
   "cell_type": "code",
   "execution_count": 14,
   "metadata": {
    "collapsed": true
   },
   "outputs": [],
   "source": [
    "# Displaying the single chain set as the protein's representative structure\n",
    "iML1515_GP.genes.b3916.protein.representative_structure.view_structure(recolor=False)"
   ]
  }
 ],
 "metadata": {
  "anaconda-cloud": {},
  "kernelspec": {
   "display_name": "Python [default]",
   "language": "python",
   "name": "python3"
  },
  "language_info": {
   "codemirror_mode": {
    "name": "ipython",
    "version": 3
   },
   "file_extension": ".py",
   "mimetype": "text/x-python",
   "name": "python",
   "nbconvert_exporter": "python",
   "pygments_lexer": "ipython3",
   "version": "3.5.2"
  }
 },
 "nbformat": 4,
 "nbformat_minor": 1
}
