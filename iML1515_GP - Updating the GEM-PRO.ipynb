{
 "cells": [
  {
   "cell_type": "markdown",
   "metadata": {
    "janus": {
     "all_versions_showing": false,
     "cell_hidden": false,
     "current_version": 0,
     "id": "75234e49bdc97",
     "named_versions": [],
     "output_hidden": false,
     "show_versions": false,
     "source_hidden": false,
     "versions": []
    }
   },
   "source": [
    "# *i*ML1515_GP - Updating the GEM-PRO\n",
    "\n",
    "The purpose of this notebook is to provide a quick pipeline to update a GEM-PRO with the most recent sequence and structure data. This pipeline can also be used to download all sequence and structure data if you are starting with just the GEM-PRO ``.json.gz`` file. Otherwise, make sure that the ``iML1515_GP`` folder is in the same directory as this notebook.\n",
    "\n",
    "Running this pipeline may take a while, timings are provided in the progress bars for each method below.\n",
    "\n",
    "For a full tutorial on how a GEM-PRO is actually created, and the details of each method, see [this tutorial notebook](http://ssbio.readthedocs.io/en/latest/notebooks/GEM-PRO%20-%20SBML%20Model%20%28iNJ661%29.html).\n",
    "\n",
    "Requirements:\n",
    "- ``ssbio`` - installation instructions [here](http://ssbio.readthedocs.io/en/latest/#installation), documentation [here](http://ssbio.readthedocs.io/en/latest/index.html)"
   ]
  },
  {
   "cell_type": "markdown",
   "metadata": {
    "janus": {
     "all_versions_showing": false,
     "cell_hidden": false,
     "current_version": 0,
     "id": "d424aae6c67b3",
     "named_versions": [],
     "output_hidden": false,
     "show_versions": false,
     "source_hidden": false,
     "versions": []
    }
   },
   "source": [
    "### Imports and loading the model"
   ]
  },
  {
   "cell_type": "code",
   "execution_count": 1,
   "metadata": {
    "ExecuteTime": {
     "end_time": "2019-10-04T10:25:26.716269Z",
     "start_time": "2019-10-04T10:25:09.511136Z"
    },
    "janus": {
     "all_versions_showing": false,
     "cell_hidden": false,
     "current_version": 0,
     "id": "a6ddbe0fb4142",
     "named_versions": [],
     "output_hidden": false,
     "show_versions": false,
     "source_hidden": false,
     "versions": []
    }
   },
   "outputs": [],
   "source": [
    "# Loading the JSON file\n",
    "# Change the location of the .json file if it is located somewhere else\n",
    "from ssbio.io import load_json\n",
    "iML1515_GP = load_json('iML1515_GP.json.gz', decompression=True)"
   ]
  },
  {
   "cell_type": "code",
   "execution_count": 2,
   "metadata": {
    "ExecuteTime": {
     "end_time": "2019-10-04T10:25:26.720236Z",
     "start_time": "2019-10-04T10:25:26.717979Z"
    },
    "janus": {
     "all_versions_showing": false,
     "cell_hidden": false,
     "current_version": 0,
     "id": "02ab82e0a55eb",
     "named_versions": [],
     "output_hidden": false,
     "show_versions": false,
     "source_hidden": false,
     "versions": []
    }
   },
   "outputs": [],
   "source": [
    "## Alternative - loading the pickle file\n",
    "## Uncomment and use this loading method if the JSON file fails to load\n",
    "# from ssbio.core.io import load_pickle\n",
    "# iML1515_GP = load_pickle('iML1515_GP/model/iML1515_GP.pckl')"
   ]
  },
  {
   "cell_type": "code",
   "execution_count": 3,
   "metadata": {
    "ExecuteTime": {
     "end_time": "2019-10-04T10:25:26.744156Z",
     "start_time": "2019-10-04T10:25:26.721357Z"
    },
    "janus": {
     "all_versions_showing": false,
     "cell_hidden": false,
     "current_version": 0,
     "id": "d4d74ee142406",
     "named_versions": [],
     "output_hidden": false,
     "show_versions": false,
     "source_hidden": false,
     "versions": []
    }
   },
   "outputs": [
    {
     "name": "stdout",
     "output_type": "stream",
     "text": [
      "Location of the \"iML1515_GP\" folder: .\n"
     ]
    }
   ],
   "source": [
    "# Displaying directories to which information will be downloaded to\n",
    "# You can change the root_dir if the iML1515_GP folder is located somewhere else\n",
    "print('Location of the \"iML1515_GP\" folder:', iML1515_GP.root_dir)\n",
    "\n",
    "## If the root directory needs to be changed\n",
    "# iML1515_GP.root_dir = '/path/to/new/root_dir/with/iML1515_GP/folder/in/it'"
   ]
  },
  {
   "cell_type": "code",
   "execution_count": 4,
   "metadata": {
    "ExecuteTime": {
     "end_time": "2019-10-04T10:25:32.826607Z",
     "start_time": "2019-10-04T10:25:32.821571Z"
    },
    "janus": {
     "all_versions_showing": false,
     "cell_hidden": false,
     "current_version": 0,
     "id": "599d031fc3482",
     "named_versions": [],
     "output_hidden": false,
     "show_versions": false,
     "source_hidden": false,
     "versions": []
    }
   },
   "outputs": [],
   "source": [
    "# Setting logging display settings\n",
    "import sys\n",
    "import logging\n",
    "logger = logging.getLogger()\n",
    "logger.setLevel(logging.INFO)\n",
    "handler = logging.StreamHandler(sys.stderr)\n",
    "formatter = logging.Formatter('[%(asctime)s] [%(name)s] %(levelname)s: %(message)s', datefmt=\"%Y-%m-%d %H:%M\")\n",
    "handler.setFormatter(formatter)\n",
    "logger.handlers = [handler]"
   ]
  },
  {
   "cell_type": "code",
   "execution_count": 5,
   "metadata": {
    "ExecuteTime": {
     "end_time": "2019-10-04T10:25:34.602170Z",
     "start_time": "2019-10-04T10:25:34.598863Z"
    },
    "janus": {
     "all_versions_showing": false,
     "cell_hidden": false,
     "current_version": 0,
     "id": "b67c7c766cee7",
     "named_versions": [],
     "output_hidden": false,
     "show_versions": false,
     "source_hidden": false,
     "versions": []
    }
   },
   "outputs": [],
   "source": [
    "# Printing multiple outputs per cell\n",
    "from IPython.core.interactiveshell import InteractiveShell\n",
    "InteractiveShell.ast_node_interactivity = \"all\""
   ]
  },
  {
   "cell_type": "markdown",
   "metadata": {
    "janus": {
     "all_versions_showing": false,
     "cell_hidden": false,
     "current_version": 0,
     "id": "732779398ce31",
     "named_versions": [],
     "output_hidden": false,
     "show_versions": false,
     "source_hidden": false,
     "versions": []
    }
   },
   "source": [
    "### Updating sequence information"
   ]
  },
  {
   "cell_type": "code",
   "execution_count": 6,
   "metadata": {
    "janus": {
     "all_versions_showing": false,
     "cell_hidden": false,
     "current_version": 0,
     "id": "2190b1c997ac6",
     "named_versions": [],
     "output_hidden": false,
     "show_versions": false,
     "source_hidden": false,
     "versions": []
    }
   },
   "outputs": [
    {
     "name": "stderr",
     "output_type": "stream",
     "text": [
      "[2017-03-31 17:39] [root] WARNING: status is not ok with Not Found\n",
      "[2017-03-31 17:39] [ssbio.databases.kegg] WARNING: eco:b2092: no sequence file available\n",
      "[2017-03-31 17:42] [root] WARNING: status is not ok with Not Found\n",
      "[2017-03-31 17:42] [ssbio.databases.kegg] WARNING: eco:b4104: no sequence file available\n",
      "[2017-03-31 17:42] [ssbio.pipeline.gempro] INFO: 1513/1515: number of genes mapped to KEGG\n",
      "[2017-03-31 17:42] [ssbio.pipeline.gempro] INFO: Completed ID mapping --> KEGG. See the \"df_kegg_metadata\" attribute for a summary dataframe.\n",
      "[2017-03-31 17:42] [root] INFO: getUserAgent: Begin\n",
      "[2017-03-31 17:42] [root] INFO: getUserAgent: user_agent: EBI-Sample-Client/ (services.py; Python 3.5.2; Linux) Python-requests/2.12.4\n",
      "[2017-03-31 17:42] [root] INFO: getUserAgent: End\n"
     ]
    },
    {
     "name": "stdout",
     "output_type": "stream",
     "text": [
      "\n"
     ]
    },
    {
     "name": "stderr",
     "output_type": "stream",
     "text": [
      "[2017-03-31 17:53] [ssbio.pipeline.gempro] INFO: 1513/1515: number of genes mapped to UniProt\n",
      "[2017-03-31 17:53] [ssbio.pipeline.gempro] INFO: Completed ID mapping --> UniProt. See the \"df_uniprot_metadata\" attribute for a summary dataframe.\n"
     ]
    },
    {
     "name": "stdout",
     "output_type": "stream",
     "text": [
      "\n"
     ]
    },
    {
     "name": "stderr",
     "output_type": "stream",
     "text": [
      "[2017-03-31 17:53] [ssbio.pipeline.gempro] INFO: 1515/1515: number of genes with a representative sequence\n",
      "[2017-03-31 17:53] [ssbio.pipeline.gempro] INFO: See the \"df_representative_sequences\" attribute for a summary dataframe.\n"
     ]
    },
    {
     "name": "stdout",
     "output_type": "stream",
     "text": [
      "\n"
     ]
    }
   ],
   "source": [
    "# Set all methods to force_rerun=True to re-download information from KEGG and UniProt\n",
    "iML1515_GP.kegg_mapping_and_metadata(kegg_organism_code='eco', force_rerun=True)\n",
    "iML1515_GP.uniprot_mapping_and_metadata(model_gene_source='ENSEMBLGENOME_ID', force_rerun=True)\n",
    "iML1515_GP.set_representative_sequence(force_rerun=True)"
   ]
  },
  {
   "cell_type": "markdown",
   "metadata": {
    "janus": {
     "all_versions_showing": false,
     "cell_hidden": false,
     "current_version": 0,
     "id": "3305f8c36432c",
     "named_versions": [],
     "output_hidden": false,
     "show_versions": false,
     "source_hidden": false,
     "versions": []
    }
   },
   "source": [
    "### Updating structure information"
   ]
  },
  {
   "cell_type": "code",
   "execution_count": 7,
   "metadata": {
    "janus": {
     "all_versions_showing": false,
     "cell_hidden": false,
     "current_version": 0,
     "id": "8141a327a9c6d",
     "named_versions": [],
     "output_hidden": false,
     "show_versions": false,
     "source_hidden": false,
     "versions": []
    }
   },
   "outputs": [
    {
     "name": "stderr",
     "output_type": "stream",
     "text": [
      "[2017-03-31 17:54] [ssbio.pipeline.gempro] INFO: Mapping UniProt IDs --> PDB IDs...\n",
      "[2017-03-31 17:54] [root] INFO: getUserAgent: Begin\n",
      "[2017-03-31 17:54] [root] INFO: getUserAgent: user_agent: EBI-Sample-Client/ (services.py; Python 3.5.2; Linux) Python-requests/2.12.4\n",
      "[2017-03-31 17:54] [root] INFO: getUserAgent: End\n",
      "[2017-03-31 18:01] [ssbio.pipeline.gempro] INFO: 684/1515: number of genes with at least one experimental structure\n",
      "[2017-03-31 18:01] [ssbio.pipeline.gempro] INFO: Completed UniProt --> best PDB mapping. See the \"df_pdb_ranking\" attribute for a summary dataframe.\n"
     ]
    },
    {
     "name": "stdout",
     "output_type": "stream",
     "text": [
      "\n"
     ]
    },
    {
     "name": "stderr",
     "output_type": "stream",
     "text": [
      "[2017-03-31 18:39] [ssbio.pipeline.gempro] INFO: Completed sequence --> PDB BLAST. See the \"df_pdb_blast\" attribute for a summary dataframe.\n",
      "[2017-03-31 18:39] [ssbio.pipeline.gempro] INFO: 75: number of genes with additional structures added from BLAST\n"
     ]
    },
    {
     "name": "stdout",
     "output_type": "stream",
     "text": [
      "\n"
     ]
    },
    {
     "name": "stderr",
     "output_type": "stream",
     "text": [
      "[2017-03-31 18:45] [ssbio.core.protein] ERROR: 5hbo: unable to parse structure file as mmtf. Falling back to mmCIF format.\n",
      "[2017-03-31 18:57] [ssbio.pipeline.gempro] INFO: 1513/1515: number of genes with a representative structure\n",
      "[2017-03-31 18:57] [ssbio.pipeline.gempro] INFO: See the \"df_representative_structures\" attribute for a summary dataframe.\n"
     ]
    },
    {
     "name": "stdout",
     "output_type": "stream",
     "text": [
      "\n"
     ]
    }
   ],
   "source": [
    "# Set all methods to force_rerun=True to re-download information from the PDB\n",
    "iML1515_GP.map_uniprot_to_pdb(force_rerun=True)\n",
    "iML1515_GP.blast_seqs_to_pdb(seq_ident_cutoff=.95, all_genes=False, force_rerun=True)\n",
    "iML1515_GP.set_representative_structure(force_rerun=True)"
   ]
  },
  {
   "cell_type": "markdown",
   "metadata": {
    "janus": {
     "all_versions_showing": false,
     "cell_hidden": false,
     "current_version": 0,
     "id": "2505752e82ef9",
     "named_versions": [],
     "output_hidden": false,
     "show_versions": false,
     "source_hidden": false,
     "versions": []
    }
   },
   "source": [
    "### Saving the updated GEM-PRO"
   ]
  },
  {
   "cell_type": "code",
   "execution_count": null,
   "metadata": {
    "collapsed": true,
    "janus": {
     "all_versions_showing": false,
     "cell_hidden": false,
     "current_version": 0,
     "id": "f326b6aec4651",
     "named_versions": [],
     "output_hidden": false,
     "show_versions": false,
     "source_hidden": false,
     "versions": []
    }
   },
   "outputs": [],
   "source": [
    "# Both JSON and pickle saving methods are provided\n",
    "# JSON is human-readable and data can be utilized in other languages\n",
    "# Pickles are Python specific\n",
    "iML1515_GP.save_json('iML1515_GP_updated.json', compression=False)\n",
    "# iML1515_GP.save_pickle(outfile='iML1515_GP/model/iML1515_GP_updated.pckl')"
   ]
  }
 ],
 "metadata": {
  "anaconda-cloud": {},
  "janus": {
   "filepaths": [
    [
     "c3bddb4c",
     1570184690524,
     1570184760010
    ]
   ],
   "janus_markers": [],
   "track_history": true
  },
  "kernelspec": {
   "display_name": "Python [default]",
   "language": "python",
   "name": "python3"
  },
  "language_info": {
   "codemirror_mode": {
    "name": "ipython",
    "version": 3
   },
   "file_extension": ".py",
   "mimetype": "text/x-python",
   "name": "python",
   "nbconvert_exporter": "python",
   "pygments_lexer": "ipython3",
   "version": "3.6.4"
  },
  "toc": {
   "nav_menu": {},
   "number_sections": false,
   "sideBar": true,
   "skip_h1_title": true,
   "title_cell": "Table of Contents",
   "title_sidebar": "Contents",
   "toc_cell": false,
   "toc_position": {},
   "toc_section_display": true,
   "toc_window_display": false
  }
 },
 "nbformat": 4,
 "nbformat_minor": 1
}
